{
 "cells": [
  {
   "cell_type": "markdown",
   "metadata": {},
   "source": [
    "# Template \n",
    "\n",
    "- Author: Israel Oliveira [\\[e-mail\\]](mailto:'Israel%20Oliveira%20'<prof.israel@gmail.com>)"
   ]
  },
  {
   "cell_type": "code",
   "execution_count": 1,
   "metadata": {
    "execution": {
     "iopub.execute_input": "2021-07-16T22:13:45.938479Z",
     "iopub.status.busy": "2021-07-16T22:13:45.935895Z",
     "iopub.status.idle": "2021-07-16T22:13:45.979009Z",
     "shell.execute_reply": "2021-07-16T22:13:45.978267Z",
     "shell.execute_reply.started": "2021-07-16T22:13:45.938351Z"
    }
   },
   "outputs": [],
   "source": [
    "%load_ext watermark"
   ]
  },
  {
   "cell_type": "code",
   "execution_count": 2,
   "metadata": {
    "execution": {
     "iopub.execute_input": "2021-07-16T22:13:46.202029Z",
     "iopub.status.busy": "2021-07-16T22:13:46.201660Z",
     "iopub.status.idle": "2021-07-16T22:13:46.205885Z",
     "shell.execute_reply": "2021-07-16T22:13:46.204872Z",
     "shell.execute_reply.started": "2021-07-16T22:13:46.202002Z"
    }
   },
   "outputs": [],
   "source": [
    "import pandas as pd"
   ]
  },
  {
   "cell_type": "code",
   "execution_count": 3,
   "metadata": {
    "execution": {
     "iopub.execute_input": "2021-07-16T22:13:46.958403Z",
     "iopub.status.busy": "2021-07-16T22:13:46.956331Z",
     "iopub.status.idle": "2021-07-16T22:13:46.985243Z",
     "shell.execute_reply": "2021-07-16T22:13:46.978645Z",
     "shell.execute_reply.started": "2021-07-16T22:13:46.958251Z"
    }
   },
   "outputs": [],
   "source": [
    "# from tqdm import tqdm\n",
    "\n",
    "# from glob import glob\n",
    "\n",
    "# import matplotlib.pyplot as plt\n",
    "# %matplotlib inline\n",
    "# from IPython.core.pylabtools import figsize\n",
    "# figsize(12, 8)\n",
    "\n",
    "# import seaborn as sns\n",
    "# sns.set_theme()\n",
    "\n",
    "# pd.set_option(\"max_columns\", None)\n",
    "# pd.set_option(\"max_rows\", None)\n",
    "# pd.set_option('display.max_colwidth', None)\n",
    "\n",
    "# from IPython.display import Markdown, display\n",
    "# def md(arg):\n",
    "#     display(Markdown(arg))\n",
    "\n",
    "# from pandas_profiling import ProfileReport\n",
    "# #report = ProfileReport(#DataFrame here#, minimal=True)\n",
    "# #report.to\n",
    "\n",
    "# import pyarrow.parquet as pq\n",
    "# #df = pq.ParquetDataset(path_to_folder_with_parquets, filesystem=None).read_pandas().to_pandas()\n",
    "\n",
    "# import json\n",
    "# def open_file_json(path,mode='r',var=None):\n",
    "#     if mode == 'w':\n",
    "#         with open(path,'w') as f:\n",
    "#             json.dump(var, f)\n",
    "#     if mode == 'r':\n",
    "#         with open(path,'r') as f:\n",
    "#             return json.load(f)\n",
    "\n",
    "# import functools\n",
    "# import operator\n",
    "# def flat(a):\n",
    "#     return functools.reduce(operator.iconcat, a, [])"
   ]
  },
  {
   "cell_type": "code",
   "execution_count": 4,
   "metadata": {
    "execution": {
     "iopub.execute_input": "2021-07-16T22:13:54.774409Z",
     "iopub.status.busy": "2021-07-16T22:13:54.772990Z",
     "iopub.status.idle": "2021-07-16T22:13:56.081839Z",
     "shell.execute_reply": "2021-07-16T22:13:56.080075Z",
     "shell.execute_reply.started": "2021-07-16T22:13:54.774291Z"
    }
   },
   "outputs": [
    {
     "name": "stdout",
     "output_type": "stream",
     "text": [
      "Python implementation: CPython\n",
      "Python version       : 3.8.11\n",
      "IPython version      : 7.25.0\n",
      "\n",
      "Compiler    : GCC 8.3.0\n",
      "OS          : Linux\n",
      "Release     : 5.11.0-7620-generic\n",
      "Machine     : x86_64\n",
      "Processor   : \n",
      "CPU cores   : 4\n",
      "Architecture: 64bit\n",
      "\n",
      "Git hash: 3d0b1240da8b6612620dff8921a6898b7024f57f\n",
      "\n",
      "Git repo: https://github.com/ysraell/forecasting.git\n",
      "\n",
      "Git branch: main\n",
      "\n",
      "sys       : 3.8.11 (default, Jun 29 2021, 19:54:56) \n",
      "[GCC 8.3.0]\n",
      "ipywidgets: 7.6.3\n",
      "numpy     : 1.19.5\n",
      "pandas    : 1.3.0\n",
      "json      : 2.0.9\n",
      "\n",
      "CPU\t: Intel(R) Core(TM) i7-7500U CPU @ 2.70GHz\n",
      "Mem:           15G\n",
      "Swap:         4.0G\n"
     ]
    }
   ],
   "source": [
    "# Run this cell before close.\n",
    "%watermark -d --iversion -b -r -g -m -v\n",
    "!cat /proc/cpuinfo |grep 'model name'|head -n 1 |sed -e 's/model\\ name/CPU/'\n",
    "!free -h |cut -d'i' -f1  |grep -v total"
   ]
  },
  {
   "cell_type": "code",
   "execution_count": null,
   "metadata": {},
   "outputs": [],
   "source": []
  }
 ],
 "metadata": {
  "kernelspec": {
   "display_name": "Python 3 (ipykernel)",
   "language": "python",
   "name": "python3"
  },
  "language_info": {
   "codemirror_mode": {
    "name": "ipython",
    "version": 3
   },
   "file_extension": ".py",
   "mimetype": "text/x-python",
   "name": "python",
   "nbconvert_exporter": "python",
   "pygments_lexer": "ipython3",
   "version": "3.8.11"
  }
 },
 "nbformat": 4,
 "nbformat_minor": 4
}
