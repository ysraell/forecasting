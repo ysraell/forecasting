{
 "cells": [
  {
   "cell_type": "markdown",
   "metadata": {},
   "source": [
    "# Automated Forcasting Analysis for Multiple Time Series  \n",
    "\n",
    "- Author: Israel Oliveira [\\[e-mail\\]](mailto:'Israel%20Oliveira%20'<prof.israel@gmail.com>)"
   ]
  },
  {
   "cell_type": "code",
   "execution_count": 1,
   "metadata": {
    "execution": {
     "iopub.execute_input": "2021-08-04T13:08:19.289314Z",
     "iopub.status.busy": "2021-08-04T13:08:19.288655Z",
     "iopub.status.idle": "2021-08-04T13:08:19.325002Z",
     "shell.execute_reply": "2021-08-04T13:08:19.324116Z",
     "shell.execute_reply.started": "2021-08-04T13:08:19.289179Z"
    }
   },
   "outputs": [],
   "source": [
    "%load_ext watermark"
   ]
  },
  {
   "cell_type": "code",
   "execution_count": 2,
   "metadata": {
    "execution": {
     "iopub.execute_input": "2021-08-04T13:08:19.628595Z",
     "iopub.status.busy": "2021-08-04T13:08:19.626861Z",
     "iopub.status.idle": "2021-08-04T13:08:20.037358Z",
     "shell.execute_reply": "2021-08-04T13:08:20.036575Z",
     "shell.execute_reply.started": "2021-08-04T13:08:19.628470Z"
    }
   },
   "outputs": [],
   "source": [
    "import pandas as pd"
   ]
  },
  {
   "cell_type": "code",
   "execution_count": 6,
   "metadata": {
    "execution": {
     "iopub.execute_input": "2021-08-04T13:09:55.807951Z",
     "iopub.status.busy": "2021-08-04T13:09:55.805944Z",
     "iopub.status.idle": "2021-08-04T13:09:55.829616Z",
     "shell.execute_reply": "2021-08-04T13:09:55.827826Z",
     "shell.execute_reply.started": "2021-08-04T13:09:55.807794Z"
    },
    "tags": []
   },
   "outputs": [],
   "source": [
    "# from tqdm import tqdm\n",
    "\n",
    "from glob import glob\n",
    "\n",
    "# import matplotlib.pyplot as plt\n",
    "# %matplotlib inline\n",
    "# from matplotlib import rcParams\n",
    "# from cycler import cycler\n",
    "\n",
    "# rcParams['figure.figsize'] = 12, 8 # 18, 5\n",
    "# rcParams['axes.spines.top'] = False\n",
    "# rcParams['axes.spines.right'] = False\n",
    "# rcParams['axes.grid'] = True\n",
    "# rcParams['axes.prop_cycle'] = cycler(color=['#365977'])\n",
    "# rcParams['lines.linewidth'] = 2.5\n",
    "\n",
    "# import seaborn as sns\n",
    "# sns.set_theme()\n",
    "\n",
    "# pd.set_option(\"max_columns\", None)\n",
    "# pd.set_option(\"max_rows\", None)\n",
    "# pd.set_option('display.max_colwidth', None)\n",
    "\n",
    "# from IPython.display import Markdown, display\n",
    "# def md(arg):\n",
    "#     display(Markdown(arg))\n",
    "\n",
    "# from pandas_profiling import ProfileReport\n",
    "# #report = ProfileReport(#DataFrame here#, minimal=True)\n",
    "# #report.to\n",
    "\n",
    "# import pyarrow.parquet as pq\n",
    "# #df = pq.ParquetDataset(path_to_folder_with_parquets, filesystem=None).read_pandas().to_pandas()\n",
    "\n",
    "# import json\n",
    "# def open_file_json(path,mode='r',var=None):\n",
    "#     if mode == 'w':\n",
    "#         with open(path,'w') as f:\n",
    "#             json.dump(var, f)\n",
    "#     if mode == 'r':\n",
    "#         with open(path,'r') as f:\n",
    "#             return json.load(f)\n",
    "\n",
    "# import functools\n",
    "# import operator\n",
    "# def flat(a):\n",
    "#     return functools.reduce(operator.iconcat, a, [])\n",
    "\n",
    "# import json\n",
    "# from glob import glob\n",
    "# from typing import NewType\n",
    "\n",
    "\n",
    "# DictsPathType = NewType(\"DictsPath\", str)\n",
    "\n",
    "\n",
    "# def open_file_json(path):\n",
    "#     with open(path, \"r\") as f:\n",
    "#         return json.load(f)\n",
    "\n",
    "# class LoadDicts:\n",
    "#     def __init__(self, dict_path: DictsPathType = \"./data\"):\n",
    "#         Dicts_glob = glob(f\"{dict_path}/*.json\")\n",
    "#         self.List = []\n",
    "#         self.Dict = {}\n",
    "#         for path_json in Dicts_glob:\n",
    "#             name = path_json.split(\"/\")[-1].replace(\".json\", \"\")\n",
    "#             self.List.append(name)\n",
    "#             self.Dict[name] = open_file_json(path_json)\n",
    "#             setattr(self, name, self.Dict[name])\n"
   ]
  },
  {
   "cell_type": "code",
   "execution_count": 7,
   "metadata": {
    "execution": {
     "iopub.execute_input": "2021-08-04T13:09:56.137648Z",
     "iopub.status.busy": "2021-08-04T13:09:56.135855Z",
     "iopub.status.idle": "2021-08-04T13:09:57.410931Z",
     "shell.execute_reply": "2021-08-04T13:09:57.410118Z",
     "shell.execute_reply.started": "2021-08-04T13:09:56.137509Z"
    },
    "tags": []
   },
   "outputs": [
    {
     "name": "stdout",
     "output_type": "stream",
     "text": [
      "Python implementation: CPython\n",
      "Python version       : 3.9.6\n",
      "IPython version      : 7.25.0\n",
      "\n",
      "Compiler    : GCC 8.3.0\n",
      "OS          : Linux\n",
      "Release     : 5.11.0-7620-generic\n",
      "Machine     : x86_64\n",
      "Processor   : \n",
      "CPU cores   : 4\n",
      "Architecture: 64bit\n",
      "\n",
      "Git hash: cc853c29b8365bf369ab46c29f8f3d8ed57b1e0a\n",
      "\n",
      "Git repo: https://github.com/ysraell/forecasting.git\n",
      "\n",
      "Git branch: main\n",
      "\n",
      "pandas: 1.3.1\n",
      "\n",
      "CPU\t: Intel(R) Core(TM) i7-7500U CPU @ 2.70GHz\n",
      "Mem:           15G\n",
      "Swap:         4.0G\n"
     ]
    }
   ],
   "source": [
    "# Run this cell before close.\n",
    "%watermark -d --iversion -b -r -g -m -v\n",
    "!cat /proc/cpuinfo |grep 'model name'|head -n 1 |sed -e 's/model\\ name/CPU/'\n",
    "!free -h |cut -d'i' -f1  |grep -v total"
   ]
  },
  {
   "cell_type": "code",
   "execution_count": 8,
   "metadata": {
    "execution": {
     "iopub.execute_input": "2021-08-04T13:09:57.413003Z",
     "iopub.status.busy": "2021-08-04T13:09:57.412577Z",
     "iopub.status.idle": "2021-08-04T13:09:57.600002Z",
     "shell.execute_reply": "2021-08-04T13:09:57.599408Z",
     "shell.execute_reply.started": "2021-08-04T13:09:57.412963Z"
    },
    "tags": []
   },
   "outputs": [],
   "source": [
    "coins_dataset_path = '/work/data/coins'\n",
    "df = pd.concat([pd.read_csv(csv, parse_dates=True) for csv in glob(f'{coins_dataset_path}/*csv')], ignore_index=True)\n",
    "df['Date'] = pd.to_datetime(df.Date)\n",
    "Coins = df.Symbol.unique().tolist()\n",
    "df_results = pd.read_csv(\"/work/tmp/results_coin.csv\")\n",
    "\n",
    "# vide import matplotlib.colors as mcolors; mcolors.TABLEAU_COLORS\n",
    "col2color = {\n",
    "    'High':'red',\n",
    "    'Low':'gray', \n",
    "    'Open':'orange',\n",
    "    'Close':'blue', \n",
    "    'Volume':'green',\n",
    "    'Marketcap':'olive'\n",
    "}\n",
    "linestyle = {\n",
    "    'High':':',\n",
    "    'Low':':', \n",
    "    'Open':'--',\n",
    "    'Close':'-', \n",
    "    'Volume':'-',\n",
    "    'Marketcap':'-'\n",
    "}\n",
    "price_cols = ['High', 'Low', 'Open', 'Close']\n",
    "other_cols = ['Volume', 'Marketcap']\n",
    "cols2decomposed = ['Close']\n",
    "modes2decomposed = ['additive', 'multiplicative']"
   ]
  },
  {
   "cell_type": "code",
   "execution_count": null,
   "metadata": {},
   "outputs": [],
   "source": []
  }
 ],
 "metadata": {
  "kernelspec": {
   "display_name": "Python 3 (ipykernel)",
   "language": "python",
   "name": "python3"
  },
  "language_info": {
   "codemirror_mode": {
    "name": "ipython",
    "version": 3
   },
   "file_extension": ".py",
   "mimetype": "text/x-python",
   "name": "python",
   "nbconvert_exporter": "python",
   "pygments_lexer": "ipython3",
   "version": "3.9.6"
  }
 },
 "nbformat": 4,
 "nbformat_minor": 4
}
